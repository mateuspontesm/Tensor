{
 "cells": [
  {
   "cell_type": "markdown",
   "metadata": {},
   "source": [
    "## Intro\n",
    "\n",
    "* Here we compare an PARAFAC decomposition when all the factors are unknown with when one factor is known beforehand.\n",
    "* We then compare the use of two Unfolding fuctions, one from tensorly and one adapted from another library"
   ]
  },
  {
   "cell_type": "code",
   "execution_count": 5,
   "metadata": {},
   "outputs": [
    {
     "name": "stderr",
     "output_type": "stream",
     "text": [
      "Using numpy backend.\n"
     ]
    }
   ],
   "source": [
    "import numpy as np\n",
    "import matplotlib.pyplot as plt\n",
    "import seaborn as sns\n",
    "import tensorly as tl\n",
    "from scipy import linalg\n",
    "import tensorly.decomposition as tldecomp\n",
    "import tensorly.metrics as tlmetrics"
   ]
  },
  {
   "cell_type": "code",
   "execution_count": 22,
   "metadata": {},
   "outputs": [],
   "source": [
    "def tensorEye(I1,I2,I3):\n",
    "    out=np.zeros((I1,I2,I3)) \n",
    "    for i1 in range(0,I1):\n",
    "        for i2 in range (0,I2):\n",
    "            for i3 in range(0,I3):\n",
    "                if (i1==i2==i3): out[i1,i2,i3]=1\n",
    "    return out"
   ]
  },
  {
   "cell_type": "code",
   "execution_count": 23,
   "metadata": {},
   "outputs": [],
   "source": [
    "def from_to_without(frm, to, without, step=1, skip=1, reverse=False, separate=False):\n",
    "    if reverse:\n",
    "        frm, to = (to - 1), (frm - 1)\n",
    "        step *= -1\n",
    "        skip *= -1\n",
    "    a = list(range(frm, without, step))\n",
    "    b = list(range(without + skip, to, step))\n",
    "    if separate:\n",
    "        return a, b\n",
    "    else:\n",
    "        return a + b"
   ]
  },
  {
   "cell_type": "code",
   "execution_count": 24,
   "metadata": {},
   "outputs": [],
   "source": [
    "def unfold(tensor, mode):\n",
    "    sz = np.array(tensor.shape)\n",
    "    N = len(sz)\n",
    "    order = ([mode], from_to_without(N - 1, -1, mode, step=-1, skip=-1))\n",
    "    newsz = (sz[order[0]][0], np.prod(sz[order[1]]))\n",
    "    arr = np.transpose(tensor,axes=(order[0] + order[1]))\n",
    "    arr = arr.reshape(newsz)\n",
    "    return arr"
   ]
  },
  {
   "cell_type": "markdown",
   "metadata": {},
   "source": [
    "## Parametros"
   ]
  },
  {
   "cell_type": "code",
   "execution_count": 25,
   "metadata": {},
   "outputs": [],
   "source": [
    "I1=3\n",
    "I2=3\n",
    "I3=3\n",
    "Rank=3\n",
    "Ts=tl.random.cp_tensor(shape=(I1,I2,I3),rank=Rank,full=True)"
   ]
  },
  {
   "cell_type": "code",
   "execution_count": 26,
   "metadata": {},
   "outputs": [
    {
     "name": "stdout",
     "output_type": "stream",
     "text": [
      "[[[ 1.  0.  0.]\n",
      "  [ 0.  0.  0.]\n",
      "  [ 0.  0.  0.]]\n",
      "\n",
      " [[ 0.  0.  0.]\n",
      "  [ 0.  1.  0.]\n",
      "  [ 0.  0.  0.]]\n",
      "\n",
      " [[ 0.  0.  0.]\n",
      "  [ 0.  0.  0.]\n",
      "  [ 0.  0.  1.]]]\n"
     ]
    }
   ],
   "source": [
    "eye=tensorEye(Rank,Rank,Rank)\n",
    "print(eye)"
   ]
  },
  {
   "cell_type": "markdown",
   "metadata": {},
   "source": [
    "## ALS with all factors Unknown"
   ]
  },
  {
   "cell_type": "code",
   "execution_count": 27,
   "metadata": {},
   "outputs": [],
   "source": [
    "itermax=1000\n",
    "epsilon1=[]\n",
    "A2=np.random.rand(I2,Rank)\n",
    "A3=np.random.rand(I3,Rank)\n",
    "for ii in range(itermax):\n",
    "    krtransposed=linalg.pinv(tl.transpose(tl.tenalg.khatri_rao([A3,A2])))\n",
    "    A1=np.dot(unfold(tensor=Ts,mode=0),krtransposed)\n",
    "    krtransposed=linalg.pinv(tl.transpose(tl.tenalg.khatri_rao([A3,A1])))\n",
    "    A2=np.dot(unfold(tensor=Ts,mode=1),krtransposed)\n",
    "    krtransposed=linalg.pinv(tl.transpose(tl.tenalg.khatri_rao([A2,A1])))\n",
    "    A3=np.dot(unfold(tensor=Ts,mode=2),krtransposed)\n",
    "    error=tlmetrics.MSE(y_pred=tl.tenalg.multi_mode_dot(eye,matrix_or_vec_list=[A1, A2, A3]),y_true=Ts)\n",
    "    epsilon1.append(error)\n",
    "Xhat1=tl.tenalg.multi_mode_dot(eye,matrix_or_vec_list=[A1, A2, A3])"
   ]
  },
  {
   "cell_type": "code",
   "execution_count": 28,
   "metadata": {},
   "outputs": [
    {
     "data": {
      "text/plain": [
       "array([[[ 0.10205103,  0.05955429,  0.06479719],\n",
       "        [ 0.16946641,  0.08291064,  0.11735714],\n",
       "        [ 0.06453936,  0.01365965,  0.0299291 ]],\n",
       "\n",
       "       [[ 0.13217774,  0.11330778,  0.11201289],\n",
       "        [ 0.26808455,  0.17563451,  0.21943274],\n",
       "        [ 0.09011069,  0.02092944,  0.04339718]],\n",
       "\n",
       "       [[ 0.07608722,  0.10884609,  0.09780342],\n",
       "        [ 0.22426371,  0.18467153,  0.21225379],\n",
       "        [ 0.06434099,  0.01673344,  0.03259872]]])"
      ]
     },
     "execution_count": 28,
     "metadata": {},
     "output_type": "execute_result"
    }
   ],
   "source": [
    "Xhat1"
   ]
  },
  {
   "cell_type": "code",
   "execution_count": 31,
   "metadata": {},
   "outputs": [
    {
     "data": {
      "text/plain": [
       "array([[[ 0.10211695,  0.05947685,  0.0648105 ],\n",
       "        [ 0.16962305,  0.08270329,  0.11754916],\n",
       "        [ 0.0643227 ,  0.01409301,  0.02904149]],\n",
       "\n",
       "       [[ 0.13214341,  0.11350763,  0.11185916],\n",
       "        [ 0.26788703,  0.17585608,  0.21924092],\n",
       "        [ 0.09060472,  0.02112976,  0.04354742]],\n",
       "\n",
       "       [[ 0.07605382,  0.10859555,  0.09806396],\n",
       "        [ 0.22441334,  0.18463621,  0.2122455 ],\n",
       "        [ 0.06376077,  0.01577281,  0.03358761]]])"
      ]
     },
     "execution_count": 31,
     "metadata": {},
     "output_type": "execute_result"
    }
   ],
   "source": [
    "Ts"
   ]
  },
  {
   "cell_type": "markdown",
   "metadata": {},
   "source": [
    "## ALS com uma matriz fator conhecida"
   ]
  },
  {
   "cell_type": "code",
   "execution_count": 32,
   "metadata": {},
   "outputs": [],
   "source": [
    "itermax=1000\n",
    "epsilon2=[]\n",
    "A2=np.random.rand(I2,Rank)\n",
    "A3=np.random.rand(I3,Rank)\n",
    "for ii in range(itermax):\n",
    "    # krtransposto=linalg.pinv(tl.transpose(tl.tenalg.khatri_rao([A3,A2])))\n",
    "    # A1=np.dot(unfold(tensor=Ts,mode=0),krtransposto)\n",
    "    krtransposed=linalg.pinv(tl.transpose(tl.tenalg.khatri_rao([A3,A1])))\n",
    "    A2=np.dot(unfold(tensor=Ts,mode=1),krtransposed)\n",
    "    krtransposed=linalg.pinv(tl.transpose(tl.tenalg.khatri_rao([A2,A1])))\n",
    "    A3=np.dot(unfold(tensor=Ts,mode=2),krtransposed)\n",
    "    error=tlmetrics.MSE(y_pred=tl.tenalg.multi_mode_dot(eye,matrix_or_vec_list=[A1, A2, A3]),y_true=Ts)\n",
    "    epsilon2.append(error)\n",
    "Xhat2=tl.tenalg.multi_mode_dot(eye,matrix_or_vec_list=[A1, A2, A3])"
   ]
  },
  {
   "cell_type": "code",
   "execution_count": 33,
   "metadata": {},
   "outputs": [
    {
     "data": {
      "text/plain": [
       "array([[[ 0.10206315,  0.05955686,  0.0648114 ],\n",
       "        [ 0.16949292,  0.08288878,  0.11739852],\n",
       "        [ 0.06453326,  0.01367571,  0.02991323]],\n",
       "\n",
       "       [[ 0.13215704,  0.11330318,  0.11200608],\n",
       "        [ 0.26805025,  0.17561745,  0.2194313 ],\n",
       "        [ 0.0901116 ,  0.02094605,  0.04337188]],\n",
       "\n",
       "       [[ 0.0761055 ,  0.10884437,  0.09780384],\n",
       "        [ 0.22428108,  0.18469678,  0.21224151],\n",
       "        [ 0.06436008,  0.01674142,  0.03258148]]])"
      ]
     },
     "execution_count": 33,
     "metadata": {},
     "output_type": "execute_result"
    }
   ],
   "source": [
    "Xhat2"
   ]
  },
  {
   "cell_type": "code",
   "execution_count": 34,
   "metadata": {},
   "outputs": [
    {
     "data": {
      "text/plain": [
       "array([[[ 0.10211695,  0.05947685,  0.0648105 ],\n",
       "        [ 0.16962305,  0.08270329,  0.11754916],\n",
       "        [ 0.0643227 ,  0.01409301,  0.02904149]],\n",
       "\n",
       "       [[ 0.13214341,  0.11350763,  0.11185916],\n",
       "        [ 0.26788703,  0.17585608,  0.21924092],\n",
       "        [ 0.09060472,  0.02112976,  0.04354742]],\n",
       "\n",
       "       [[ 0.07605382,  0.10859555,  0.09806396],\n",
       "        [ 0.22441334,  0.18463621,  0.2122455 ],\n",
       "        [ 0.06376077,  0.01577281,  0.03358761]]])"
      ]
     },
     "execution_count": 34,
     "metadata": {},
     "output_type": "execute_result"
    }
   ],
   "source": [
    "Ts"
   ]
  },
  {
   "cell_type": "code",
   "execution_count": 35,
   "metadata": {},
   "outputs": [
    {
     "data": {
      "image/png": "[encoded data removed]",
      "text/plain": [
       "<matplotlib.figure.Figure at 0x12eb7dc8be0>"
      ]
     },
     "metadata": {},
     "output_type": "display_data"
    }
   ],
   "source": [
    "sns.set_style(style='darkgrid')\n",
    "plt.figure(figsize=(10,6))\n",
    "plt.plot(np.log10(epsilon2))\n",
    "plt.plot(np.log10(epsilon1))\n",
    "plt.ylabel('log10 of the MSE')\n",
    "plt.xlabel('iterations')\n",
    "plt.legend(['1 known factor','all desconhecidos'])\n",
    "plt.show()"
   ]
  },
  {
   "cell_type": "markdown",
   "metadata": {},
   "source": [
    "## With Tensorly Unfold"
   ]
  },
  {
   "cell_type": "code",
   "execution_count": 37,
   "metadata": {},
   "outputs": [],
   "source": [
    "itermax=1000\n",
    "epsilon1=[]\n",
    "A2=np.random.rand(I2,Rank)\n",
    "A3=np.random.rand(I3,Rank)\n",
    "for ii in range(itermax):\n",
    "    krtransposto=linalg.pinv(tl.transpose(tl.tenalg.khatri_rao([A3,A2])))\n",
    "    A1=np.dot(tl.unfold(tensor=Ts,mode=0),krtransposto)\n",
    "    krtransposto=linalg.pinv(tl.transpose(tl.tenalg.khatri_rao([A3,A1])))\n",
    "    A2=np.dot(tl.unfold(tensor=Ts,mode=1),krtransposto)\n",
    "    krtransposto=linalg.pinv(tl.transpose(tl.tenalg.khatri_rao([A2,A1])))\n",
    "    A3=np.dot(tl.unfold(tensor=Ts,mode=2),krtransposto)\n",
    "    error=tlmetrics.MSE(y_pred=tl.tenalg.multi_mode_dot(eye,matrix_or_vec_list=[A1, A2, A3]),y_true=Ts)\n",
    "    epsilon1.append(error)\n",
    "Xhat3=tl.tenalg.multi_mode_dot(eye,matrix_or_vec_list=[A1, A2, A3])"
   ]
  },
  {
   "cell_type": "code",
   "execution_count": 38,
   "metadata": {},
   "outputs": [
    {
     "data": {
      "text/plain": [
       "array([[[ 0.07386131,  0.04414601,  0.05522585],\n",
       "        [ 0.13641913,  0.08153606,  0.10200012],\n",
       "        [ 0.02892424,  0.01728767,  0.02162655]],\n",
       "\n",
       "       [[ 0.12469285,  0.07452741,  0.09323242],\n",
       "        [ 0.23030314,  0.1376494 ,  0.17219687],\n",
       "        [ 0.04882997,  0.02918508,  0.03651   ]],\n",
       "\n",
       "       [[ 0.10823765,  0.06469233,  0.08092892],\n",
       "        [ 0.19991099,  0.11948438,  0.14947277],\n",
       "        [ 0.04238608,  0.02533365,  0.03169193]]])"
      ]
     },
     "execution_count": 38,
     "metadata": {},
     "output_type": "execute_result"
    }
   ],
   "source": [
    "Xhat3"
   ]
  },
  {
   "cell_type": "code",
   "execution_count": 39,
   "metadata": {},
   "outputs": [
    {
     "data": {
      "text/plain": [
       "array([[[ 0.10211695,  0.05947685,  0.0648105 ],\n",
       "        [ 0.16962305,  0.08270329,  0.11754916],\n",
       "        [ 0.0643227 ,  0.01409301,  0.02904149]],\n",
       "\n",
       "       [[ 0.13214341,  0.11350763,  0.11185916],\n",
       "        [ 0.26788703,  0.17585608,  0.21924092],\n",
       "        [ 0.09060472,  0.02112976,  0.04354742]],\n",
       "\n",
       "       [[ 0.07605382,  0.10859555,  0.09806396],\n",
       "        [ 0.22441334,  0.18463621,  0.2122455 ],\n",
       "        [ 0.06376077,  0.01577281,  0.03358761]]])"
      ]
     },
     "execution_count": 39,
     "metadata": {},
     "output_type": "execute_result"
    }
   ],
   "source": [
    "Ts"
   ]
  },
  {
   "cell_type": "code",
   "execution_count": null,
   "metadata": {},
   "outputs": [],
   "source": []
  }
 ],
 "metadata": {
  "kernelspec": {
   "display_name": "Python 3",
   "language": "python",
   "name": "python3"
  },
  "language_info": {
   "codemirror_mode": {
    "name": "ipython",
    "version": 3
   },
   "file_extension": ".py",
   "mimetype": "text/x-python",
   "name": "python",
   "nbconvert_exporter": "python",
   "pygments_lexer": "ipython3",
   "version": "3.6.5"
  }
 },
 "nbformat": 4,
 "nbformat_minor": 2
}
