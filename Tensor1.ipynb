{
 "cells": [
  {
   "cell_type": "markdown",
   "metadata": {},
   "source": [
    "## Intro\n",
    "\n",
    "* Here we compare an PARAFAC decomposition when all the factors are unknown with when one factor is known beforehand.\n",
    "* We then compare the use of two Unfolding fuctions, one from tensorly and one adapted from another library"
   ]
  },
  {
   "cell_type": "code",
   "execution_count": 1,
   "metadata": {},
   "outputs": [
    {
     "name": "stderr",
     "output_type": "stream",
     "text": [
      "Using numpy backend.\n"
     ]
    }
   ],
   "source": [
    "import numpy as np\n",
    "import matplotlib.pyplot as plt\n",
    "import seaborn as sns\n",
    "import tensorly as tl\n",
    "from scipy import linalg\n",
    "import tensorly.decomposition as tldecomp\n",
    "import tensorly.metrics as tlmetrics"
   ]
  },
  {
   "cell_type": "code",
   "execution_count": 2,
   "metadata": {},
   "outputs": [],
   "source": [
    "def tensorEye(I1,I2,I3):\n",
    "    out=np.zeros((I1,I2,I3)) \n",
    "    for i1 in range(0,I1):\n",
    "        for i2 in range (0,I2):\n",
    "            for i3 in range(0,I3):\n",
    "                if (i1==i2==i3): out[i1,i2,i3]=1\n",
    "    return out"
   ]
  },
  {
   "cell_type": "code",
   "execution_count": 3,
   "metadata": {},
   "outputs": [],
   "source": [
    "def from_to_without(frm, to, without, step=1, skip=1, reverse=False, separate=False):\n",
    "    if reverse:\n",
    "        frm, to = (to - 1), (frm - 1)\n",
    "        step *= -1\n",
    "        skip *= -1\n",
    "    a = list(range(frm, without, step))\n",
    "    b = list(range(without + skip, to, step))\n",
    "    if separate:\n",
    "        return a, b\n",
    "    else:\n",
    "        return a + b"
   ]
  },
  {
   "cell_type": "code",
   "execution_count": 4,
   "metadata": {},
   "outputs": [],
   "source": [
    "def unfold(tensor, mode):\n",
    "    sz = np.array(tensor.shape)\n",
    "    N = len(sz)\n",
    "    order = ([mode], from_to_without(N - 1, -1, mode, step=-1, skip=-1))\n",
    "    newsz = (sz[order[0]][0], np.prod(sz[order[1]]))\n",
    "    arr = np.transpose(tensor,axes=(order[0] + order[1]))\n",
    "    arr = arr.reshape(newsz)\n",
    "    return arr"
   ]
  },
  {
   "cell_type": "markdown",
   "metadata": {},
   "source": [
    "## Parameters"
   ]
  },
  {
   "cell_type": "code",
   "execution_count": 5,
   "metadata": {},
   "outputs": [],
   "source": [
    "I1=3\n",
    "I2=3\n",
    "I3=3\n",
    "Rank=3\n",
    "Ts=tl.random.cp_tensor(shape=(I1,I2,I3),rank=Rank,full=True)"
   ]
  },
  {
   "cell_type": "code",
   "execution_count": 6,
   "metadata": {},
   "outputs": [
    {
     "name": "stdout",
     "output_type": "stream",
     "text": [
      "[[[ 1.  0.  0.]\n",
      "  [ 0.  0.  0.]\n",
      "  [ 0.  0.  0.]]\n",
      "\n",
      " [[ 0.  0.  0.]\n",
      "  [ 0.  1.  0.]\n",
      "  [ 0.  0.  0.]]\n",
      "\n",
      " [[ 0.  0.  0.]\n",
      "  [ 0.  0.  0.]\n",
      "  [ 0.  0.  1.]]]\n"
     ]
    }
   ],
   "source": [
    "eye=tensorEye(Rank,Rank,Rank)\n",
    "print(eye)"
   ]
  },
  {
   "cell_type": "markdown",
   "metadata": {},
   "source": [
    "## ALS with all factors Unknown"
   ]
  },
  {
   "cell_type": "code",
   "execution_count": 7,
   "metadata": {},
   "outputs": [],
   "source": [
    "itermax=1000\n",
    "epsilon1=[]\n",
    "A2=np.random.rand(I2,Rank)\n",
    "A3=np.random.rand(I3,Rank)\n",
    "for ii in range(itermax):\n",
    "    krtransposed=linalg.pinv(tl.transpose(tl.tenalg.khatri_rao([A3,A2])))\n",
    "    A1=np.dot(unfold(tensor=Ts,mode=0),krtransposed)\n",
    "    krtransposed=linalg.pinv(tl.transpose(tl.tenalg.khatri_rao([A3,A1])))\n",
    "    A2=np.dot(unfold(tensor=Ts,mode=1),krtransposed)\n",
    "    krtransposed=linalg.pinv(tl.transpose(tl.tenalg.khatri_rao([A2,A1])))\n",
    "    A3=np.dot(unfold(tensor=Ts,mode=2),krtransposed)\n",
    "    error=tlmetrics.MSE(y_pred=tl.tenalg.multi_mode_dot(eye,matrix_or_vec_list=[A1, A2, A3]),y_true=Ts)\n",
    "    epsilon1.append(error)\n",
    "Xhat1=tl.tenalg.multi_mode_dot(eye,matrix_or_vec_list=[A1, A2, A3])"
   ]
  },
  {
   "cell_type": "code",
   "execution_count": 8,
   "metadata": {},
   "outputs": [
    {
     "data": {
      "text/plain": [
       "array([[[ 0.32274291,  0.37458317,  0.42271877],\n",
       "        [ 0.38404914,  0.45381235,  0.44819282],\n",
       "        [ 0.26943822,  0.33289278,  0.27810147]],\n",
       "\n",
       "       [[ 0.1935513 ,  0.16647689,  0.22589232],\n",
       "        [ 0.2106454 ,  0.18710368,  0.22454888],\n",
       "        [ 0.12795291,  0.12008356,  0.11856905]],\n",
       "\n",
       "       [[ 0.13253052,  0.15161259,  0.12736588],\n",
       "        [ 0.20590848,  0.23242478,  0.14000027],\n",
       "        [ 0.18144013,  0.20551398,  0.09138585]]])"
      ]
     },
     "execution_count": 8,
     "metadata": {},
     "output_type": "execute_result"
    }
   ],
   "source": [
    "Xhat1"
   ]
  },
  {
   "cell_type": "code",
   "execution_count": 9,
   "metadata": {},
   "outputs": [
    {
     "data": {
      "text/plain": [
       "array([[[ 0.32209341,  0.37541617,  0.42216749],\n",
       "        [ 0.38393694,  0.45382583,  0.44820815],\n",
       "        [ 0.27053073,  0.3317248 ,  0.27873834]],\n",
       "\n",
       "       [[ 0.19532735,  0.16447497,  0.22632321],\n",
       "        [ 0.2106079 ,  0.18722507,  0.22460432],\n",
       "        [ 0.12513622,  0.12310625,  0.11807863]],\n",
       "\n",
       "       [[ 0.13211993,  0.15192751,  0.12762588],\n",
       "        [ 0.20579037,  0.23259446,  0.13993744],\n",
       "        [ 0.18177979,  0.20517857,  0.0910915 ]]])"
      ]
     },
     "execution_count": 9,
     "metadata": {},
     "output_type": "execute_result"
    }
   ],
   "source": [
    "Ts"
   ]
  },
  {
   "cell_type": "markdown",
   "metadata": {},
   "source": [
    "## ALS with one known factor"
   ]
  },
  {
   "cell_type": "code",
   "execution_count": 10,
   "metadata": {},
   "outputs": [],
   "source": [
    "itermax=1000\n",
    "epsilon2=[]\n",
    "A2=np.random.rand(I2,Rank)\n",
    "A3=np.random.rand(I3,Rank)\n",
    "for ii in range(itermax):\n",
    "    # krtransposto=linalg.pinv(tl.transpose(tl.tenalg.khatri_rao([A3,A2])))\n",
    "    # A1=np.dot(unfold(tensor=Ts,mode=0),krtransposto)\n",
    "    krtransposed=linalg.pinv(tl.transpose(tl.tenalg.khatri_rao([A3,A1])))\n",
    "    A2=np.dot(unfold(tensor=Ts,mode=1),krtransposed)\n",
    "    krtransposed=linalg.pinv(tl.transpose(tl.tenalg.khatri_rao([A2,A1])))\n",
    "    A3=np.dot(unfold(tensor=Ts,mode=2),krtransposed)\n",
    "    error=tlmetrics.MSE(y_pred=tl.tenalg.multi_mode_dot(eye,matrix_or_vec_list=[A1, A2, A3]),y_true=Ts)\n",
    "    epsilon2.append(error)\n",
    "Xhat2=tl.tenalg.multi_mode_dot(eye,matrix_or_vec_list=[A1, A2, A3])"
   ]
  },
  {
   "cell_type": "code",
   "execution_count": 11,
   "metadata": {},
   "outputs": [
    {
     "data": {
      "text/plain": [
       "array([[[ 0.3227448 ,  0.37458555,  0.42272614],\n",
       "        [ 0.38405194,  0.45381592,  0.44819393],\n",
       "        [ 0.26943403,  0.33288708,  0.27808707]],\n",
       "\n",
       "       [[ 0.19355341,  0.16647762,  0.22589438],\n",
       "        [ 0.21064507,  0.18710322,  0.22454573],\n",
       "        [ 0.12794715,  0.12007915,  0.11855877]],\n",
       "\n",
       "       [[ 0.1325217 ,  0.15160373,  0.1273701 ],\n",
       "        [ 0.20590868,  0.23242533,  0.14000729],\n",
       "        [ 0.18144559,  0.20551926,  0.09138943]]])"
      ]
     },
     "execution_count": 11,
     "metadata": {},
     "output_type": "execute_result"
    }
   ],
   "source": [
    "Xhat2"
   ]
  },
  {
   "cell_type": "code",
   "execution_count": 12,
   "metadata": {},
   "outputs": [
    {
     "data": {
      "text/plain": [
       "array([[[ 0.32209341,  0.37541617,  0.42216749],\n",
       "        [ 0.38393694,  0.45382583,  0.44820815],\n",
       "        [ 0.27053073,  0.3317248 ,  0.27873834]],\n",
       "\n",
       "       [[ 0.19532735,  0.16447497,  0.22632321],\n",
       "        [ 0.2106079 ,  0.18722507,  0.22460432],\n",
       "        [ 0.12513622,  0.12310625,  0.11807863]],\n",
       "\n",
       "       [[ 0.13211993,  0.15192751,  0.12762588],\n",
       "        [ 0.20579037,  0.23259446,  0.13993744],\n",
       "        [ 0.18177979,  0.20517857,  0.0910915 ]]])"
      ]
     },
     "execution_count": 12,
     "metadata": {},
     "output_type": "execute_result"
    }
   ],
   "source": [
    "Ts"
   ]
  },
  {
   "cell_type": "code",
   "execution_count": 13,
   "metadata": {},
   "outputs": [
    {
     "data": {
      "image/png": "[encoded data removed]",
      "text/plain": [
       "<matplotlib.figure.Figure at 0x25b082bd390>"
      ]
     },
     "metadata": {},
     "output_type": "display_data"
    }
   ],
   "source": [
    "sns.set_style(style='darkgrid')\n",
    "plt.figure(figsize=(10,6))\n",
    "plt.plot(np.log10(epsilon2))\n",
    "plt.plot(np.log10(epsilon1))\n",
    "plt.ylabel('log10 of the MSE')\n",
    "plt.xlabel('iterations')\n",
    "plt.legend(['1 known factor','all unknown'])\n",
    "plt.show()"
   ]
  },
  {
   "cell_type": "markdown",
   "metadata": {},
   "source": [
    "## With Tensorly Unfold"
   ]
  },
  {
   "cell_type": "code",
   "execution_count": 14,
   "metadata": {},
   "outputs": [],
   "source": [
    "itermax=1000\n",
    "epsilon1=[]\n",
    "A2=np.random.rand(I2,Rank)\n",
    "A3=np.random.rand(I3,Rank)\n",
    "for ii in range(itermax):\n",
    "    krtransposed=linalg.pinv(tl.transpose(tl.tenalg.khatri_rao([A3,A2])))\n",
    "    A1=np.dot(tl.unfold(tensor=Ts,mode=0),krtransposed)\n",
    "    krtransposed=linalg.pinv(tl.transpose(tl.tenalg.khatri_rao([A3,A1])))\n",
    "    A2=np.dot(tl.unfold(tensor=Ts,mode=1),krtransposed)\n",
    "    krtransposed=linalg.pinv(tl.transpose(tl.tenalg.khatri_rao([A2,A1])))\n",
    "    A3=np.dot(tl.unfold(tensor=Ts,mode=2),krtransposed)\n",
    "    error=tlmetrics.MSE(y_pred=tl.tenalg.multi_mode_dot(eye,matrix_or_vec_list=[A1, A2, A3]),y_true=Ts)\n",
    "    epsilon1.append(error)\n",
    "Xhat3=tl.tenalg.multi_mode_dot(eye,matrix_or_vec_list=[A1, A2, A3])"
   ]
  },
  {
   "cell_type": "code",
   "execution_count": 15,
   "metadata": {},
   "outputs": [
    {
     "data": {
      "text/plain": [
       "array([[[ 0.29249063,  0.31474527,  0.31713509],\n",
       "        [ 0.34854682,  0.37506659,  0.37791441],\n",
       "        [ 0.24483378,  0.26346237,  0.2654628 ]],\n",
       "\n",
       "       [[ 0.13816617,  0.14867878,  0.14980767],\n",
       "        [ 0.16464589,  0.17717325,  0.1785185 ],\n",
       "        [ 0.11565412,  0.12445386,  0.12539881]],\n",
       "\n",
       "       [[ 0.13472973,  0.14498087,  0.14608169],\n",
       "        [ 0.16055085,  0.17276663,  0.17407842],\n",
       "        [ 0.11277759,  0.12135846,  0.12227992]]])"
      ]
     },
     "execution_count": 15,
     "metadata": {},
     "output_type": "execute_result"
    }
   ],
   "source": [
    "Xhat3"
   ]
  },
  {
   "cell_type": "code",
   "execution_count": 16,
   "metadata": {},
   "outputs": [
    {
     "data": {
      "text/plain": [
       "array([[[ 0.32209341,  0.37541617,  0.42216749],\n",
       "        [ 0.38393694,  0.45382583,  0.44820815],\n",
       "        [ 0.27053073,  0.3317248 ,  0.27873834]],\n",
       "\n",
       "       [[ 0.19532735,  0.16447497,  0.22632321],\n",
       "        [ 0.2106079 ,  0.18722507,  0.22460432],\n",
       "        [ 0.12513622,  0.12310625,  0.11807863]],\n",
       "\n",
       "       [[ 0.13211993,  0.15192751,  0.12762588],\n",
       "        [ 0.20579037,  0.23259446,  0.13993744],\n",
       "        [ 0.18177979,  0.20517857,  0.0910915 ]]])"
      ]
     },
     "execution_count": 16,
     "metadata": {},
     "output_type": "execute_result"
    }
   ],
   "source": [
    "Ts"
   ]
  },
  {
   "cell_type": "code",
   "execution_count": null,
   "metadata": {},
   "outputs": [],
   "source": []
  }
 ],
 "metadata": {
  "kernelspec": {
   "display_name": "Python 3",
   "language": "python",
   "name": "python3"
  },
  "language_info": {
   "codemirror_mode": {
    "name": "ipython",
    "version": 3
   },
   "file_extension": ".py",
   "mimetype": "text/x-python",
   "name": "python",
   "nbconvert_exporter": "python",
   "pygments_lexer": "ipython3",
   "version": "3.6.5"
  }
 },
 "nbformat": 4,
 "nbformat_minor": 2
}
